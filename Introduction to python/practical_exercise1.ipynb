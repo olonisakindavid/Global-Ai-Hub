{
  "cells": [
    {
      "cell_type": "markdown",
      "metadata": {
        "id": "tBDsFMQwBs6Z"
      },
      "source": [
        "# Practical exercise 1:  Plan an exciting adventure with a new friend\n",
        "\n",
        "Welcome to your first practical exercise for this course. Here you will get a chance to practice the concepts we've covered in the video lessons from the module and apply your new coding skills to plan an exciting adventure with a new friend you meet online."
      ]
    },
    {
      "cell_type": "markdown",
      "metadata": {
        "id": "ymULFKyosM3d"
      },
      "source": [
        "##Warm up\n",
        "\n",
        "For this exercise, you will have to read the instructions, then write and run the code block. \n",
        "\n",
        "Let's test this. Do you remember all the keywords in Python? Probably not, but there is a quick and easy way to check them here.  \n",
        "\n",
        "1. Write the help() function in the code cell below and run the code. \n",
        "2. In the prompt that appears, type \"keywords\" and they will pop up."
      ]
    },
    {
      "cell_type": "code",
      "execution_count": 4,
      "metadata": {
        "id": "0w6HGZBvsvru"
      },
      "outputs": [
        {
          "name": "stdout",
          "output_type": "stream",
          "text": [
            "\n",
            "Welcome to Python 3.10's help utility!\n",
            "\n",
            "If this is your first time using Python, you should definitely check out\n",
            "the tutorial on the internet at https://docs.python.org/3.10/tutorial/.\n",
            "\n",
            "Enter the name of any module, keyword, or topic to get help on writing\n",
            "Python programs and using Python modules.  To quit this help utility and\n",
            "return to the interpreter, just type \"quit\".\n",
            "\n",
            "To get a list of available modules, keywords, symbols, or topics, type\n",
            "\"modules\", \"keywords\", \"symbols\", or \"topics\".  Each module also comes\n",
            "with a one-line summary of what it does; to list the modules whose name\n",
            "or summary contain a given string such as \"spam\", type \"modules spam\".\n",
            "\n",
            "\n",
            "You are now leaving help and returning to the Python interpreter.\n",
            "If you want to ask for help on a particular object directly from the\n",
            "interpreter, you can type \"help(object)\".  Executing \"help('string')\"\n",
            "has the same effect as typing a particular string at the help> prompt.\n"
          ]
        }
      ],
      "source": [
        "help()"
      ]
    },
    {
      "cell_type": "markdown",
      "metadata": {
        "id": "kG-nBjLU1WPC"
      },
      "source": [
        "🧨 Is the code cell above still running? If so, you can't continue!\n",
        "\n",
        "💣 Click the stop button next to the cell. Otherwise, it will continue to run infinitely and you will not be able to run other cells."
      ]
    },
    {
      "cell_type": "markdown",
      "metadata": {
        "id": "cnWVzlo1vBy8"
      },
      "source": [
        "# Meet Amir\n",
        "\n",
        "Let's say you are browsing the internet, when a pop up message shows on your screen, someone wants to meet you. \n",
        " "
      ]
    },
    {
      "cell_type": "code",
      "execution_count": 3,
      "metadata": {
        "id": "JFUdDbEW7GqB"
      },
      "outputs": [
        {
          "name": "stdout",
          "output_type": "stream",
          "text": [
            "Hello, my name is Amir! Nice to meet you. What is yours?\n"
          ]
        }
      ],
      "source": [
        "#Run this cell to see the message\n",
        "message = \"Hello, my name is Amir! Nice to meet you. What is yours?\"\n",
        "print(message)"
      ]
    },
    {
      "cell_type": "markdown",
      "metadata": {
        "id": "Yr7uQq1J2k6p"
      },
      "source": [
        "Now, how would you answer Amir? \n",
        "\n",
        "Use the cell below to prepare an answer for him with a greeting and your name and print it to the screen. \n",
        "\n",
        "📌 We use the built-in function print() in Python to show results as output."
      ]
    },
    {
      "cell_type": "code",
      "execution_count": 4,
      "metadata": {
        "id": "8S1F2r8NtEoN"
      },
      "outputs": [
        {
          "name": "stdout",
          "output_type": "stream",
          "text": [
            "Hi my name is Olonisakin David\n"
          ]
        }
      ],
      "source": [
        "#Write your answer and print it on the screen\n",
        "print(\"Hi my name is Olonisakin David\")"
      ]
    },
    {
      "cell_type": "markdown",
      "metadata": {
        "id": "Vgv4mhyZEWR6"
      },
      "source": [
        "Good job! Right away Amir writes you back with an intriguing question. He says, \"Would you like to plan an exciting adventure with me today?\" Well, why not! But before you start planning, maybe you need to learn a little bit more about each other."
      ]
    },
    {
      "cell_type": "markdown",
      "metadata": {
        "id": "QQIXQsmRwGqB"
      },
      "source": [
        "#Get to know each other\n",
        "\n",
        "You ask Amir to tell you a little bit about himself, and here's what he tells you."
      ]
    },
    {
      "cell_type": "code",
      "execution_count": 5,
      "metadata": {
        "id": "dvTr4HR4wF4n"
      },
      "outputs": [
        {
          "name": "stdout",
          "output_type": "stream",
          "text": [
            "I am 20 years old, 1.76 tall brunette guy from Iran but I currently live in Turkey\n",
            "What about you? Tell me about yourself.\n"
          ]
        }
      ],
      "source": [
        "#Run the cell to see his message\n",
        "his_age = 20\n",
        "his_height = 1.76\n",
        "his_hair_color = \"brunette\"\n",
        "his_hometown = \"Iran\"\n",
        "where_he_lives = \"Turkey\"\n",
        "\n",
        "print(\"I am\", str(his_age),\"years old,\",str(his_height),\"tall\",his_hair_color,\"guy from\",his_hometown,\"but I currently live in\",where_he_lives)\n",
        "\n",
        "print(\"What about you? Tell me about yourself.\")"
      ]
    },
    {
      "cell_type": "markdown",
      "metadata": {
        "id": "L7-zc-wR5982"
      },
      "source": [
        "Now it is your turn to share, but first some preparation is needed.\n",
        "\n",
        "1. Write in information about yourself using the variables below. \n",
        "2. If there's something you don't want to share, you can use comments. Just put a \"#\" symbol in front of the code line and Python will not execute that line of code.\n",
        "3. Check the datatype of each variable.\n",
        "\n",
        "📌 Remember that there are different data types in Python and in order to use them in a sentence you may have to convert some of them. "
      ]
    },
    {
      "cell_type": "code",
      "execution_count": 13,
      "metadata": {
        "id": "MDTV-mOZBVOw"
      },
      "outputs": [],
      "source": [
        "#Please assign your age, height and other details you want to share.\n",
        "my_age = 15\n",
        "my_height = '6 ft'\n",
        "complextion = 'dark'\n",
        "weight = '95kg'\n",
        "\n",
        "#Check the data type of the variables you want to use\n"
      ]
    },
    {
      "cell_type": "markdown",
      "metadata": {
        "id": "SDnrjsw7IC7Z"
      },
      "source": [
        "Great, now that you know what you want to share and which variables need to be converted to strings, you're ready to write your sentence. "
      ]
    },
    {
      "cell_type": "code",
      "execution_count": 14,
      "metadata": {
        "id": "0U8slyfyICeJ"
      },
      "outputs": [
        {
          "name": "stdout",
          "output_type": "stream",
          "text": [
            "I am  15 years old, i weigh 95kg and i am a 6 ft tall dark guy\n"
          ]
        }
      ],
      "source": [
        "#Write a sentence using the print function to describe yourself using the variables above in the correct data type\n",
        "print(\"I am \", str(my_age),\"years old, i weigh\", weight, \"and i am a\", str(my_height), \"tall\", str(complextion), \"guy\")"
      ]
    },
    {
      "cell_type": "markdown",
      "metadata": {
        "id": "7ICXdJRy9SWZ"
      },
      "source": [
        "#Where to go and what to eat\n",
        "\n",
        "Now that you know each other a little better, you can start planning your adventure. But where do you start? \n",
        "\n",
        "Let's start with locations and food. Amir asks you to make a list of places in the world that you want to visit and meals that you like to eat.\n",
        " \n",
        "Create a list 'favorite_places_and_foods' that contains at least 5 places and 5 meals.\n"
      ]
    },
    {
      "cell_type": "code",
      "execution_count": 26,
      "metadata": {
        "id": "FHdeAmG6Aw3h"
      },
      "outputs": [],
      "source": [
        "#Create your list\n",
        "personal_list = ['ghana', 'togo', 'nigeria', 'france', 'spain', 'spagetti', 'indomie', 'pounded yam', 'yoghurt', 'rice']"
      ]
    },
    {
      "cell_type": "markdown",
      "metadata": {
        "id": "bHbGRpu2MmYH"
      },
      "source": [
        "It's quite tough to choose from such great options. You need to narrow it down to three items per category. \n",
        "\n",
        "1. First you have to separate or 'slice' the places from the meals. \n",
        "2. Then select the first three items from the places list and the last ones from the foods list.\n",
        "3. Print the remaining options to the screen. \n",
        "\n",
        "📌 Do you remember the list slicing technique? For example, Mylist[1:3] will give the second and third value from Mylist."
      ]
    },
    {
      "cell_type": "code",
      "execution_count": 29,
      "metadata": {
        "id": "13LMxJu1CD-F"
      },
      "outputs": [
        {
          "name": "stdout",
          "output_type": "stream",
          "text": [
            "First three places: ['ghana', 'togo', 'nigeria']\n",
            "Last three places: ['nigeria', 'france', 'spain']\n",
            "First three foods: ['spagetti', 'indomie', 'pounded yam']\n",
            "Last three foods: ['pounded yam', 'yoghurt', 'rice']\n"
          ]
        }
      ],
      "source": [
        "#Create two separate lists for places and foods using the list slicing technique\n",
        "places = personal_list[0:5]\n",
        "food = personal_list[5:]\n",
        "#Select the first and last three from place and food lists\n",
        "first_three_places = places[:3]\n",
        "last_three_places = places[-3:]\n",
        "\n",
        "first_three_food = food[:3]\n",
        "last_three_food = food[-3:]\n",
        "\n",
        "#Print both lists\n",
        "print(\"First three places:\", first_three_places)\n",
        "print(\"Last three places:\", last_three_places)\n",
        "\n",
        "print(\"First three foods:\", first_three_food)\n",
        "print(\"Last three foods:\", last_three_food)"
      ]
    },
    {
      "cell_type": "markdown",
      "metadata": {
        "id": "R5LG-XXHBFFM"
      },
      "source": [
        "It's quite hard to make a choice from these three. But why not let the computer choose for you? Do you remember the game of dice from our videos? Here is what you need to do.\n",
        "\n",
        "1. Import the random module\n",
        "2. Generate two random numbers between 0-2\n",
        "3. Use each number as the index to choose an item from your favourite-place and food lists\n",
        "4. Print the results to the screen\n"
      ]
    },
    {
      "cell_type": "code",
      "execution_count": 41,
      "metadata": {
        "id": "krGw2OUtC9y5"
      },
      "outputs": [
        {
          "name": "stdout",
          "output_type": "stream",
          "text": [
            "Randomly chosen place: nigeria\n",
            "Randomly chosen food: pounded yam\n"
          ]
        }
      ],
      "source": [
        "#Please import the random module and generate two random numbers between 0 and 2\n",
        "import random\n",
        "\n",
        "# Generate two random numbers between 0 and 2\n",
        "random= random.randint(0, 2)\n",
        "\n",
        "# Use the random indexes to select random items from the lists\n",
        "random_place = places[random]\n",
        "random_food = food[random]\n",
        "\n",
        "print(\"Randomly chosen place:\", random_place)\n",
        "print(\"Randomly chosen food:\", random_food)\n"
      ]
    },
    {
      "cell_type": "markdown",
      "metadata": {
        "id": "XzBTqk1yPZsM"
      },
      "source": [
        "You must have found your location and food. But what else would you like to do on your adventure?"
      ]
    },
    {
      "cell_type": "markdown",
      "metadata": {
        "id": "9t9q1B-WbW4i"
      },
      "source": [
        "#Activities \n",
        "\n",
        "Now, you have your place and meals, but after lunch there are still lots of activities that you can do together...or separately.\n",
        "\n",
        "Let's say there are three pre-defined options: playing chess, playing tennis and visiting a museum. Chess and tennis require both of you to participate, but you can visit the museum separately as well. \n",
        "\n",
        "We need a code to indicate which activities each of you would like to do and which ones will be able to do. A chance to use our logical operators. \n",
        "\n",
        "1. Define activities\n",
        "2. Use the operands 'True' and 'False' to indicate your and Amir's preference for each activity\n",
        "3. Use the logical operators 'and' and 'or' to define which activities you will be able to do\n",
        "\n",
        "📌 Please add in the responces for Amir as well, by the way he doesn't like sports, but loves board games. "
      ]
    },
    {
      "cell_type": "code",
      "execution_count": null,
      "metadata": {
        "id": "sNIV7420Yk-Y"
      },
      "outputs": [],
      "source": [
        "first_activity = \"lets play chess in the park\"\n",
        "second_activiy = \"lets play a game of tennis\"\n",
        "third_activity = \"lets go to the museum\"\n",
        "\n",
        "#Write your and Amir's preference for each activity either as \"True\" or \"False\"\n",
        "\n",
        "#First activity\n",
        "first_activity_your = \n",
        "first_activity_friend = \n",
        "\n",
        "#Example statement\n",
        "print(\"We are going to play chess in the park! Answer:\" ,first_activity_your and first_activity_friend)\n",
        " \n",
        "#Second activity\n",
        "\n",
        " \n",
        "#Your turn to write the statement\n",
        "\n",
        "\n",
        "#Third activity\n",
        "\n",
        "#Your turn to write the statement \n"
      ]
    },
    {
      "cell_type": "markdown",
      "metadata": {
        "id": "p_jbzGubELqR"
      },
      "source": [
        "#Get a date\n",
        "\n",
        "Finally you know where to meet, what to eat and what do to. The only last thing to decide is when to meet. How would you ask Amir for the date and time he wants to go on this adventure with you? \n",
        "\n",
        "📌📌Hint: Use the input() function."
      ]
    },
    {
      "cell_type": "code",
      "execution_count": null,
      "metadata": {
        "id": "jGxVfccGEMZB"
      },
      "outputs": [],
      "source": [
        "#Create a variable for your trip date that asks Amir for an input\n",
        "\n",
        "\n",
        "#Print the date for the trip by using it in a sentence\n"
      ]
    }
  ],
  "metadata": {
    "colab": {
      "collapsed_sections": [],
      "name": "practical_exercise1.ipynb",
      "provenance": []
    },
    "kernelspec": {
      "display_name": "Python 3",
      "name": "python3"
    },
    "language_info": {
      "codemirror_mode": {
        "name": "ipython",
        "version": 3
      },
      "file_extension": ".py",
      "mimetype": "text/x-python",
      "name": "python",
      "nbconvert_exporter": "python",
      "pygments_lexer": "ipython3",
      "version": "3.10.5"
    }
  },
  "nbformat": 4,
  "nbformat_minor": 0
}
