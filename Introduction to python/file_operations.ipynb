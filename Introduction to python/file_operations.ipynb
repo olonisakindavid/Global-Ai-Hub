{
  "cells": [
    {
      "cell_type": "markdown",
      "metadata": {
        "id": "4vsuKp1Fn1rR"
      },
      "source": [
        "#Create a file\n",
        "\n",
        "\n",
        "\n",
        "1.   Create a folder called \"file_operations\".\n",
        "2.   Create a file called \"message.txt\" inside \"file_operations\" folder\n",
        "\n",
        "\n",
        "\n",
        "\n"
      ]
    },
    {
      "cell_type": "code",
      "execution_count": null,
      "metadata": {
        "id": "vGiW6Yl8mMy5"
      },
      "outputs": [],
      "source": [
        "# Navigate to message.txt’s directory\n",
        "%cd /content/file_operations"
      ]
    },
    {
      "cell_type": "code",
      "execution_count": null,
      "metadata": {
        "id": "Ts-Gogiroc0U"
      },
      "outputs": [],
      "source": [
        "# opens hello.txt text file in the current directory\n",
        "message_file = open(\"message.txt\")"
      ]
    },
    {
      "cell_type": "code",
      "execution_count": null,
      "metadata": {
        "id": "-oxnKr-yog6G"
      },
      "outputs": [],
      "source": [
        "# specifying the full path\n",
        "message_file = open(\"/content/file_operations/message.txt\")"
      ]
    },
    {
      "cell_type": "code",
      "execution_count": null,
      "metadata": {
        "id": "v6FTiSivopbg"
      },
      "outputs": [],
      "source": [
        "message_file = open(\"message.txt\", \"r\")"
      ]
    },
    {
      "cell_type": "code",
      "execution_count": null,
      "metadata": {
        "id": "Y6VsltxJrxl5"
      },
      "outputs": [],
      "source": [
        "content = message_file.read()\n",
        "message_file.close()"
      ]
    },
    {
      "cell_type": "code",
      "execution_count": 1,
      "metadata": {
        "id": "Z_qkSuwerzpx"
      },
      "outputs": [
        {
          "ename": "NameError",
          "evalue": "name 'content' is not defined",
          "output_type": "error",
          "traceback": [
            "\u001b[1;31m---------------------------------------------------------------------------\u001b[0m",
            "\u001b[1;31mNameError\u001b[0m                                 Traceback (most recent call last)",
            "\u001b[1;32mc:\\Users\\Pavilion\\Desktop\\PERSONAL STASH\\Global Ai Hub\\Introduction to python\\file_operations.ipynb Cell 7\u001b[0m line \u001b[0;36m1\n\u001b[1;32m----> <a href='vscode-notebook-cell:/c%3A/Users/Pavilion/Desktop/PERSONAL%20STASH/Global%20Ai%20Hub/Introduction%20to%20python/file_operations.ipynb#W6sZmlsZQ%3D%3D?line=0'>1</a>\u001b[0m \u001b[39mprint\u001b[39m(content)\n",
            "\u001b[1;31mNameError\u001b[0m: name 'content' is not defined"
          ]
        }
      ],
      "source": [
        "print(content)"
      ]
    },
    {
      "cell_type": "code",
      "execution_count": 2,
      "metadata": {
        "id": "98pZ6mwbr1wi"
      },
      "outputs": [],
      "source": [
        "hello_file = open(\"hello.txt\", \"w\")"
      ]
    },
    {
      "cell_type": "code",
      "execution_count": null,
      "metadata": {
        "id": "ddfzs2aQr7yZ"
      },
      "outputs": [],
      "source": [
        "hello_file.write('Hello world, this is Python')\n",
        "hello_file.close()"
      ]
    },
    {
      "cell_type": "code",
      "execution_count": null,
      "metadata": {
        "id": "P1foCjY3sG5a"
      },
      "outputs": [],
      "source": [
        "​​import random\n",
        "while True:\n",
        "\n",
        "  random_number = random.randrange(1000)\n",
        "  print(random_number)\n",
        " \n",
        "  if random_number == 777:\n",
        "    print('Found!')\n",
        "    break"
      ]
    },
    {
      "cell_type": "code",
      "execution_count": null,
      "metadata": {
        "id": "8rJRc5K7sKFe"
      },
      "outputs": [],
      "source": [
        "import random\n",
        " \n",
        "numbers_file = open('number_history.txt', 'w')\n",
        " \n",
        "while True:\n",
        " \n",
        "  random_number = random.randrange(1000)\n",
        "  print(random_number)\n",
        "  numbers_file.write(str(random_number))\n",
        "  numbers_file.write('\\n')\n",
        " \n",
        "  if random_number == 777:\n",
        "    print('Found!')\n",
        "    numbers_file.write('Found!')\n",
        "    numbers_file.close()\n",
        "    break"
      ]
    },
    {
      "cell_type": "code",
      "execution_count": null,
      "metadata": {
        "id": "97X8-s6ysmW_"
      },
      "outputs": [],
      "source": [
        "import random\n",
        " \n",
        "with open('number_history.txt', 'w') as numbers_file:\n",
        " \n",
        "  while True:\n",
        "\n",
        "    random_number = random.randrange(1000)\n",
        "    print(random_number)\n",
        "    numbers_file.write(str(random_number))\n",
        "    numbers_file.write('\\n')\n",
        " \n",
        "    if random_number == 777:\n",
        "      print('Found!')\n",
        "      numbers_file.write('Found!')\n",
        "      break"
      ]
    }
  ],
  "metadata": {
    "colab": {
      "collapsed_sections": [],
      "name": "File_Operations_updated.ipynb",
      "provenance": []
    },
    "kernelspec": {
      "display_name": "Python 3",
      "name": "python3"
    },
    "language_info": {
      "codemirror_mode": {
        "name": "ipython",
        "version": 3
      },
      "file_extension": ".py",
      "mimetype": "text/x-python",
      "name": "python",
      "nbconvert_exporter": "python",
      "pygments_lexer": "ipython3",
      "version": "3.10.5"
    }
  },
  "nbformat": 4,
  "nbformat_minor": 0
}
