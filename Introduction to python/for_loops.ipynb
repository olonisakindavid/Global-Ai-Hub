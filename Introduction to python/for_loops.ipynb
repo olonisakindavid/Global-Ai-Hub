{
  "cells": [
    {
      "cell_type": "code",
      "execution_count": 1,
      "metadata": {
        "colab": {
          "base_uri": "https://localhost:8080/"
        },
        "id": "ygG2PdH06l2d",
        "outputId": "96b1c558-8486-4867-f44a-f50a77efd1c8"
      },
      "outputs": [
        {
          "name": "stdout",
          "output_type": "stream",
          "text": [
            "E\n",
            "y\n",
            "j\n",
            "a\n",
            "f\n",
            "j\n",
            "a\n",
            "l\n",
            "l\n",
            "a\n",
            "j\n",
            "ö\n",
            "k\n",
            "u\n",
            "l\n",
            "l\n"
          ]
        }
      ],
      "source": [
        "print('E')\n",
        "print('y')\n",
        "print('j')\n",
        "print('a')\n",
        "print('f')\n",
        "print('j')\n",
        "print('a')\n",
        "print('l')\n",
        "print('l')\n",
        "print('a')\n",
        "print('j')\n",
        "print('ö')\n",
        "print('k')\n",
        "print('u')\n",
        "print('l')\n",
        "print('l')"
      ]
    },
    {
      "cell_type": "code",
      "execution_count": 2,
      "metadata": {
        "colab": {
          "base_uri": "https://localhost:8080/"
        },
        "id": "rSmK86Uz6q-5",
        "outputId": "56f98d19-5b11-430b-db6c-b6ee6925e272"
      },
      "outputs": [
        {
          "name": "stdout",
          "output_type": "stream",
          "text": [
            "E\n",
            "y\n",
            "j\n",
            "a\n",
            "f\n",
            "j\n",
            "a\n",
            "l\n",
            "l\n",
            "a\n",
            "j\n",
            "ö\n",
            "k\n",
            "u\n",
            "l\n",
            "l\n",
            "Loop is completed\n"
          ]
        }
      ],
      "source": [
        "volcano_name = 'Eyjafjallajökull'\n",
        " \n",
        "for i in volcano_name:\n",
        "  print(i)\n",
        "print('Loop is completed')"
      ]
    },
    {
      "cell_type": "code",
      "execution_count": 3,
      "metadata": {
        "colab": {
          "base_uri": "https://localhost:8080/"
        },
        "id": "DvoG_vBU6zkv",
        "outputId": "b4b0df8f-35d7-4ce7-85c3-1a1a12a8ab35"
      },
      "outputs": [
        {
          "name": "stdout",
          "output_type": "stream",
          "text": [
            "1\n",
            "2\n",
            "3\n",
            "4\n",
            "5\n",
            "6\n",
            "7\n",
            "8\n",
            "9\n",
            "10\n",
            "Loop is completed\n"
          ]
        }
      ],
      "source": [
        "numbers = [1, 2, 3, 4, 5, 6, 7, 8, 9,10]\n",
        "for i in numbers:\n",
        "  print(i)\n",
        " \n",
        "print('Loop is completed')"
      ]
    },
    {
      "cell_type": "code",
      "execution_count": 4,
      "metadata": {
        "colab": {
          "base_uri": "https://localhost:8080/"
        },
        "id": "dSBGHaCt61uy",
        "outputId": "be8ca5d4-fe64-4465-e3b7-e9e922a3a823"
      },
      "outputs": [
        {
          "name": "stdout",
          "output_type": "stream",
          "text": [
            "5\n",
            "6\n",
            "7\n",
            "8\n",
            "9\n",
            "10\n",
            "11\n",
            "12\n",
            "13\n",
            "14\n",
            "15\n",
            "16\n",
            "17\n",
            "18\n",
            "19\n",
            "20\n",
            "Loop is completed\n"
          ]
        }
      ],
      "source": [
        "for i in range(5,21):\n",
        "  print(i)\n",
        "print('Loop is completed')"
      ]
    },
    {
      "cell_type": "code",
      "execution_count": 5,
      "metadata": {
        "colab": {
          "base_uri": "https://localhost:8080/"
        },
        "id": "lBRpZD3g636i",
        "outputId": "9f1c02f5-de30-46c9-e6cc-d8154fd3bba9"
      },
      "outputs": [
        {
          "name": "stdout",
          "output_type": "stream",
          "text": [
            "5\n",
            "10\n",
            "15\n",
            "20\n",
            "25\n",
            "30\n",
            "35\n",
            "40\n",
            "45\n",
            "50\n",
            "55\n",
            "60\n",
            "65\n",
            "70\n",
            "75\n",
            "80\n",
            "85\n",
            "90\n",
            "95\n",
            "100\n",
            "Loop has been completed\n"
          ]
        }
      ],
      "source": [
        "for i in range(1,101):\n",
        "  if i % 5 == 0:\n",
        "    print(i)\n",
        " \n",
        "print('Loop has been completed')"
      ]
    }
  ],
  "metadata": {
    "colab": {
      "collapsed_sections": [],
      "name": "For Loops.ipynb",
      "provenance": []
    },
    "kernelspec": {
      "display_name": "Python 3",
      "name": "python3"
    },
    "language_info": {
      "name": "python"
    }
  },
  "nbformat": 4,
  "nbformat_minor": 0
}
